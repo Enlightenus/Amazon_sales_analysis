{
 "cells": [
  {
   "cell_type": "code",
   "execution_count": null,
   "metadata": {},
   "outputs": [],
   "source": [
    "import pandas as pd\n",
    "import numpy as np\n",
    "import matplotlib.pyplot as plt\n",
    "import seaborn as sns\n",
    "import nltk"
   ]
  },
  {
   "cell_type": "code",
   "execution_count": null,
   "metadata": {},
   "outputs": [],
   "source": [
    "# Read processed data\n",
    "df = pd.read_csv('processed_data.csv')\n",
    "print(df.shape)"
   ]
  },
  {
   "cell_type": "code",
   "execution_count": null,
   "metadata": {},
   "outputs": [],
   "source": [
    "df.head()"
   ]
  },
  {
   "cell_type": "code",
   "execution_count": null,
   "metadata": {},
   "outputs": [],
   "source": [
    "example_reviews = df['review_content'][10]\n",
    "print(example_reviews)"
   ]
  },
  {
   "cell_type": "code",
   "execution_count": null,
   "metadata": {},
   "outputs": [],
   "source": [
    "# If encountered LookupError, run following code once\n",
    "# nltk.download()"
   ]
  },
  {
   "cell_type": "code",
   "execution_count": null,
   "metadata": {},
   "outputs": [],
   "source": [
    "tokens = nltk.word_tokenize(example_reviews)\n",
    "tokens[:20]"
   ]
  },
  {
   "cell_type": "code",
   "execution_count": null,
   "metadata": {},
   "outputs": [],
   "source": [
    "tags = nltk.pos_tag(tokens)\n",
    "tags[:10]"
   ]
  },
  {
   "cell_type": "code",
   "execution_count": null,
   "metadata": {},
   "outputs": [],
   "source": [
    "from nltk.sentiment import SentimentIntensityAnalyzer\n",
    "from tqdm.notebook import tqdm\n",
    "\n",
    "sia = SentimentIntensityAnalyzer()"
   ]
  },
  {
   "cell_type": "code",
   "execution_count": null,
   "metadata": {},
   "outputs": [],
   "source": [
    "sia.polarity_scores(example_reviews)\n"
   ]
  },
  {
   "cell_type": "code",
   "execution_count": null,
   "metadata": {},
   "outputs": [],
   "source": [
    "# Run the polarity score on the entire dataset\n",
    "reviews = {}\n",
    "for i, row in tqdm(df.iterrows(), total=len(df)):\n",
    "    content = row['review_content']\n",
    "    id = str(row.name)\n",
    "    reviews[id] = sia.polarity_scores(content)"
   ]
  },
  {
   "cell_type": "code",
   "execution_count": null,
   "metadata": {},
   "outputs": [],
   "source": [
    "vaders = pd.DataFrame(reviews)\n",
    "vaders"
   ]
  },
  {
   "cell_type": "markdown",
   "metadata": {},
   "source": [
    "#### Process succeed, but we want the sentiment score on each row, so we can use transpose operation"
   ]
  },
  {
   "cell_type": "code",
   "execution_count": null,
   "metadata": {},
   "outputs": [],
   "source": [
    "vaders = pd.DataFrame(reviews).T\n",
    "vaders = vaders.reset_index().rename(columns={'index': 'Id'})\n",
    "vaders = vaders.merge(df, how='left',left_index=True, right_index=True)\n",
    "vaders"
   ]
  },
  {
   "cell_type": "code",
   "execution_count": null,
   "metadata": {},
   "outputs": [],
   "source": [
    "import math\n",
    "# Fill the NaN and using math.floor() to get rating_bin\n",
    "vaders.fillna({'rating': 0}, inplace=True)\n",
    "vaders['rating_bin'] = vaders['rating'].apply(lambda x: math.floor(x))\n",
    "\n",
    "plt.figure(figsize=(6, 4))\n",
    "colors = sns.color_palette('Set1',5)\n",
    "ax = sns.barplot(data=vaders, x='rating_bin', y='compound', hue='rating_bin', legend = False, palette=colors)\n",
    "ax.set_title('Compound Score by Rating')\n",
    "ax.set_xlabel('Rating')\n",
    "ax.set_ylabel('Compound Score')\n",
    "plt.show()\n"
   ]
  },
  {
   "cell_type": "code",
   "execution_count": null,
   "metadata": {},
   "outputs": [],
   "source": [
    "# Checking why the compound score is so different in rating 5\n",
    "vaders_check = vaders[vaders['rating_bin'] >= 5]\n",
    "vaders_check.head()"
   ]
  },
  {
   "cell_type": "markdown",
   "metadata": {},
   "source": [
    "#### We only have 3 items in rating 5, and one of them get 0.0000, so it makes a really high ci."
   ]
  },
  {
   "cell_type": "code",
   "execution_count": null,
   "metadata": {},
   "outputs": [],
   "source": [
    "# Generating the plot for each score\n",
    "fig, axs = plt.subplots(1, 3, figsize=(12, 3))\n",
    "sns.barplot(data=vaders, x='rating_bin', y='pos', ax=axs[0], hue='rating_bin', legend = False, palette=colors)\n",
    "sns.barplot(data=vaders, x='rating_bin', y='neu', ax=axs[1], hue='rating_bin', legend = False, palette=colors)\n",
    "sns.barplot(data=vaders, x='rating_bin', y='neg', ax=axs[2], hue='rating_bin', legend = False, palette=colors)\n",
    "axs[0].set_title('Positive')\n",
    "axs[1].set_title('Neutral')\n",
    "axs[2].set_title('Negative')\n",
    "plt.tight_layout()\n",
    "plt.show()"
   ]
  },
  {
   "cell_type": "markdown",
   "metadata": {},
   "source": [
    "#### Interestingly, the sentiment analysis suggests that most of the reviews are neutral. The most significant difference is the usage of negative words. We can observe a negative correlation between ratings and the negative words."
   ]
  },
  {
   "cell_type": "code",
   "execution_count": null,
   "metadata": {},
   "outputs": [],
   "source": [
    "# Discount percentage vs compound score\n",
    "vaders['discount_percentage'] = vaders['discount_percentage'].str.replace('%', '').astype(int)\n",
    "\n",
    "fig, ax = plt.subplots(figsize=(12, 7))\n",
    "sns.regplot(data=vaders, x = 'discount_percentage', y='compound', dropna = True)\n",
    "ax.set_xlabel('Discount Percentage (%)')\n",
    "ax.set_ylabel('Compound Score')\n",
    "ax.set_title('Discount Percentage vs Compound Score')\n",
    "plt.show()"
   ]
  },
  {
   "cell_type": "markdown",
   "metadata": {},
   "source": [
    "#### Compound score is low correlated with the discount percentage of the product."
   ]
  }
 ],
 "metadata": {
  "kernelspec": {
   "display_name": "Python 3",
   "language": "python",
   "name": "python3"
  },
  "language_info": {
   "codemirror_mode": {
    "name": "ipython",
    "version": 3
   },
   "file_extension": ".py",
   "mimetype": "text/x-python",
   "name": "python",
   "nbconvert_exporter": "python",
   "pygments_lexer": "ipython3",
   "version": "3.10.7"
  }
 },
 "nbformat": 4,
 "nbformat_minor": 2
}
